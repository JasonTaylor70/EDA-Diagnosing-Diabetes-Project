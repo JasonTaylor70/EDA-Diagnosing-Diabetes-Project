{
 "cells": [
  {
   "attachments": {},
   "cell_type": "markdown",
   "metadata": {},
   "source": [
    "\n",
    "\n",
    "# I didn't change that much in my code compared to the solution. I added alternative options to some of the questions. I would really appreciate it if someone could give me a code review and let me know what I could work on to have cleaner more efficient code."
   ]
  }
 ],
 "metadata": {
  "language_info": {
   "name": "python"
  },
  "orig_nbformat": 4
 },
 "nbformat": 4,
 "nbformat_minor": 2
}
